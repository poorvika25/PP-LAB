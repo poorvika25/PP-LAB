{
 "cells": [
  {
   "cell_type": "markdown",
   "id": "7ea30913",
   "metadata": {},
   "source": [
    "### EXP 1"
   ]
  },
  {
   "cell_type": "code",
   "execution_count": 7,
   "id": "5b6af5ba",
   "metadata": {},
   "outputs": [
    {
     "name": "stdout",
     "output_type": "stream",
     "text": [
      "enter the number of digits:3\n",
      "Enter a 3-digit integer:1234\n",
      "Please enter a 3-digit integer\n"
     ]
    }
   ],
   "source": [
    "n=int(input(\"enter the number of digits:\"))\n",
    "if n>0:\n",
    "    number=int(input(f\"Enter a {n}-digit integer:\"))\n",
    "    if number>=10**(n-1) and number<10**n:\n",
    "        for i in range(n):\n",
    "            digit=number//(10**(n-1))\n",
    "            print(digit)\n",
    "            number%=10**(n-1)\n",
    "            n-=1\n",
    "    else:\n",
    "        print(f\"Please enter a {n}-digit integer\")\n",
    "else:\n",
    "    print(\"Please enter a valid number of digits(greater than 0)\")"
   ]
  },
  {
   "cell_type": "markdown",
   "id": "986fd01c",
   "metadata": {},
   "source": [
    "### EXP 2"
   ]
  },
  {
   "cell_type": "code",
   "execution_count": 4,
   "id": "d4a6ddad",
   "metadata": {},
   "outputs": [
    {
     "name": "stdout",
     "output_type": "stream",
     "text": [
      "Enter the first number:7\n",
      "Enter the Second number:3\n",
      "Enter the third number:8\n",
      "Enter the four number:10\n",
      "The sorted number are: 3 7 8 10\n"
     ]
    }
   ],
   "source": [
    "a=int(input(\"Enter the first number:\"))\n",
    "b=int(input(\"Enter the Second number:\"))\n",
    "c=int(input(\"Enter the third number:\"))\n",
    "d=int(input(\"Enter the four number:\"))\n",
    "if a>b:a,b=b,a\n",
    "if c>d:c,d=d,c\n",
    "if a>c:a,c=c,a\n",
    "if b>d:b,d=d,b\n",
    "if b>c:b,c=c,b\n",
    "print(\"The sorted number are:\",a,b,c,d)"
   ]
  },
  {
   "cell_type": "code",
   "execution_count": 9,
   "id": "d12de17f",
   "metadata": {},
   "outputs": [
    {
     "name": "stdout",
     "output_type": "stream",
     "text": [
      "enter the number of digits:3\n",
      "Enter a 3-digit integer:123\n",
      "1\n",
      "2\n",
      "3\n"
     ]
    }
   ],
   "source": [
    "n=int(input(\"enter the number of digits:\"))\n",
    "if n>0:\n",
    "    number=int(input(f\"Enter a {n}-digit integer:\"))\n",
    "    if len(str(number))==n:\n",
    "        for i in range(n):\n",
    "            digit=number//(10**(n-1))\n",
    "            print(digit)\n",
    "            number%=10**(n-1)\n",
    "            n-=1\n",
    "    else:\n",
    "        print(f\"Please enter a {n}-digit integer\")\n",
    "else:\n",
    "    print(\"Please enter a valid number of digits(greater than 0)\")"
   ]
  },
  {
   "cell_type": "code",
   "execution_count": 10,
   "id": "b6dc6ef3",
   "metadata": {},
   "outputs": [
    {
     "name": "stdout",
     "output_type": "stream",
     "text": [
      "Enter the first number:7\n",
      "Enter the Second number:3\n",
      "Enter the third number:5\n",
      "Enter the four number:10\n",
      "The sorted number are: 10 7 5 3\n"
     ]
    }
   ],
   "source": [
    "a=int(input(\"Enter the first number:\"))\n",
    "b=int(input(\"Enter the Second number:\"))\n",
    "c=int(input(\"Enter the third number:\"))\n",
    "d=int(input(\"Enter the four number:\"))\n",
    "if a<b:a,b=b,a\n",
    "if c<d:c,d=d,c\n",
    "if a<c:a,c=c,a\n",
    "if b<d:b,d=d,b\n",
    "if b<c:b,c=c,b\n",
    "print(\"The sorted number are:\",a,b,c,d)"
   ]
  },
  {
   "cell_type": "code",
   "execution_count": null,
   "id": "24e23436",
   "metadata": {},
   "outputs": [],
   "source": []
  }
 ],
 "metadata": {
  "kernelspec": {
   "display_name": "Python 3 (ipykernel)",
   "language": "python",
   "name": "python3"
  },
  "language_info": {
   "codemirror_mode": {
    "name": "ipython",
    "version": 3
   },
   "file_extension": ".py",
   "mimetype": "text/x-python",
   "name": "python",
   "nbconvert_exporter": "python",
   "pygments_lexer": "ipython3",
   "version": "3.10.9"
  }
 },
 "nbformat": 4,
 "nbformat_minor": 5
}
