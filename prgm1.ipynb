{
 "cells": [
  {
   "cell_type": "markdown",
   "id": "7ea30913",
   "metadata": {},
   "source": [
    "### EXP 1"
   ]
  },
  {
   "cell_type": "code",
   "execution_count": null,
   "id": "5b6af5ba",
   "metadata": {},
   "outputs": [],
   "source": [
    "n=int(input(\"enter the number of digits:\"))\n",
    "if n>0:\n",
    "    number=int(input(f\"Enter a {n}-digit integer:\"))\n",
    "    if number>=10**(n-1) and number<10**n:\n",
    "        for i in range(n):\n",
    "            digit=number//(10**(n-1))\n",
    "            print(digit)\n",
    "            number%=10**(n-1)\n",
    "            n-=1\n",
    "    else:\n",
    "        print(f\"Please enter a {n}-digit integer\")\n",
    "else:\n",
    "    print(\"Please enter a valid number of digits(greater than 0)\")"
   ]
  },
  {
   "cell_type": "markdown",
   "id": "986fd01c",
   "metadata": {},
   "source": [
    "### EXP 2"
   ]
  },
  {
   "cell_type": "code",
   "execution_count": null,
   "id": "d4a6ddad",
   "metadata": {},
   "outputs": [],
   "source": [
    "a=int(input(\"Enter the first number:\"))\n",
    "b=int(input(\"Enter the Second number:\"))\n",
    "c=int(input(\"Enter the third number:\"))\n",
    "d=int(input(\"Enter the four number:\"))\n",
    "if a>b:a,b=b,a\n",
    "if c>d:c,d=d,c\n",
    "if a>c:a,c=c,a\n",
    "if b>d:b,d=d,b\n",
    "if b>c:b,c=c,b\n",
    "print(\"The sorted number are:\",a,b,c,d)"
   ]
  },
  {
   "cell_type": "markdown",
   "id": "198f7ab4",
   "metadata": {},
   "source": [
    "## EXP4"
   ]
  },
  {
   "cell_type": "code",
   "execution_count": null,
   "id": "84711a83",
   "metadata": {},
   "outputs": [],
   "source": [
    "number=int(input(\"Enter an n-digit number\"))\n",
    "original_number=number\n",
    "reversed_number=0\n",
    "while number>0:\n",
    "    digit=number%10\n",
    "    reversed_number=reversed_number*10+digit\n",
    "    number//=10\n",
    "\n",
    "if original_number==reversed_number:\n",
    "    print(\"Palindrome\")\n",
    "else:\n",
    "    print(\"Not a Palindrome\")\n",
    "    "
   ]
  },
  {
   "cell_type": "markdown",
   "id": "9b2021de",
   "metadata": {},
   "source": [
    "## EXP5"
   ]
  },
  {
   "cell_type": "code",
   "execution_count": null,
   "id": "b6e3745f",
   "metadata": {},
   "outputs": [],
   "source": [
    "n=int(input(\"Enter an integer for the multiplication table:\"))\n",
    "print(f\"Multiplication Table for {n}:\")\n",
    "for i in range(1,11):\n",
    "    result=n*i\n",
    "    print(f\"{n}*{i}={result}\")"
   ]
  },
  {
   "cell_type": "markdown",
   "id": "3da47b8d",
   "metadata": {},
   "source": [
    "## EXP 3"
   ]
  },
  {
   "cell_type": "code",
   "execution_count": 1,
   "id": "c514b94f",
   "metadata": {},
   "outputs": [
    {
     "name": "stdout",
     "output_type": "stream",
     "text": [
      "Enter the number of elements:6\n",
      "Enter number 1:4\n",
      "Enter number 2:8\n",
      "Enter number 3:6\n",
      "Enter number 4:5\n",
      "Enter number 5:3\n",
      "Enter number 6:9\n",
      "Mean:5.833333333333333\n",
      "Median:5.5\n",
      "Mode:No mode\n",
      "Sample variance:5.366666666666667\n",
      "Population variance:4.472222222222222\n",
      "Sample standard deviation:2.316606713852541\n",
      "Population standard deviation:2.1147629234082532\n"
     ]
    }
   ],
   "source": [
    "n=int(input(\"Enter the number of elements:\"))\n",
    "numbers=[int(input(f\"Enter number {i+1}:\")) for i in range (n)]\n",
    "mean=sum(numbers)/n\n",
    "numbers.sort()\n",
    "if n%2==0:\n",
    "    median=(numbers[n//2-1]+numbers [n//2])/2\n",
    "else:\n",
    "    median=(numbers[n//2])\n",
    "frequency={num:numbers.count(num) for num in numbers}\n",
    "max_count=max(frequency.values())\n",
    "mode=[k for k,v in frequency.items() if v==max_count]\n",
    "if len(mode)==n:\n",
    "    mode=\"No mode\"\n",
    "mean_difference_squared_sum=sum((x-mean)**2 for x in numbers)\n",
    "variance_sample=mean_difference_squared_sum/(n-1) if n>1 else 0\n",
    "variance_population=mean_difference_squared_sum/n\n",
    "std_deviation_sample=variance_sample**0.5\n",
    "std_deviation_population=variance_population**0.5\n",
    "print(f\"Mean:{mean}\")\n",
    "print(f\"Median:{median}\")\n",
    "print(f\"Mode:{mode}\")\n",
    "print(f\"Sample variance:{variance_sample}\")\n",
    "print(f\"Population variance:{variance_population}\")\n",
    "print(f\"Sample standard deviation:{std_deviation_sample}\")\n",
    "print(f\"Population standard deviation:{std_deviation_population}\")"
   ]
  },
  {
   "cell_type": "markdown",
   "id": "d6ac473c",
   "metadata": {},
   "source": [
    "## Exp 6"
   ]
  },
  {
   "cell_type": "code",
   "execution_count": 5,
   "id": "ab984648",
   "metadata": {},
   "outputs": [
    {
     "name": "stdout",
     "output_type": "stream",
     "text": [
      "Enter the integer number:145\n",
      "The revers number is: 541\n"
     ]
    }
   ],
   "source": [
    "number=int(input(\"Enter the integer number:\"))\n",
    "revs_number=0\n",
    "while (number>0):\n",
    "    remainder=number%10\n",
    "    revs_number=(revs_number*10)+ remainder\n",
    "    number=number//10\n",
    "print(\"The revers number is: {}\".format(revs_number))"
   ]
  },
  {
   "cell_type": "markdown",
   "id": "31214da5",
   "metadata": {},
   "source": [
    "## Exp 7"
   ]
  },
  {
   "cell_type": "code",
   "execution_count": 9,
   "id": "fc3dc3b2",
   "metadata": {},
   "outputs": [
    {
     "name": "stdout",
     "output_type": "stream",
     "text": [
      "Enter the user input:23456\n",
      "Enter the 1st postion which you want to swap:3\n",
      "Enter the 2nd postion which you want to swap:5\n",
      "Original number= 23456\n",
      "Interchanged number= 23654\n"
     ]
    }
   ],
   "source": [
    "def interchange_digits(number,pos1,pos2):\n",
    "    number_str=str(number)\n",
    "    number_list=list(number_str)\n",
    "    number_list[pos1-1],number_list[pos2-1]=number_list[pos2-1],number_list[pos1-1]\n",
    "    interchanged_number=int(''.join(number_list))\n",
    "    return interchanged_number\n",
    "number=int(input('Enter the user input:'))\n",
    "pos1=int(input('Enter the 1st postion which you want to swap:'))\n",
    "pos2=int(input('Enter the 2nd postion which you want to swap:'))\n",
    "interchanged_number=interchange_digits(number,pos1,pos2)\n",
    "print(\"Original number=\",number)\n",
    "print(\"Interchanged number=\",interchanged_number)"
   ]
  },
  {
   "cell_type": "code",
   "execution_count": null,
   "id": "8e426f49",
   "metadata": {},
   "outputs": [],
   "source": []
  }
 ],
 "metadata": {
  "kernelspec": {
   "display_name": "Python 3 (ipykernel)",
   "language": "python",
   "name": "python3"
  },
  "language_info": {
   "codemirror_mode": {
    "name": "ipython",
    "version": 3
   },
   "file_extension": ".py",
   "mimetype": "text/x-python",
   "name": "python",
   "nbconvert_exporter": "python",
   "pygments_lexer": "ipython3",
   "version": "3.10.9"
  }
 },
 "nbformat": 4,
 "nbformat_minor": 5
}
